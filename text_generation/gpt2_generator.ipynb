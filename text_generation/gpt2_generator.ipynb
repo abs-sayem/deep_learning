{
 "cells": [
  {
   "attachments": {},
   "cell_type": "markdown",
   "metadata": {},
   "source": [
    "GPT-2 model was trained on massive unsupervised text, that generates quite impressive text.<br>Let's get started, installing the transformers library:"
   ]
  },
  {
   "cell_type": "code",
   "execution_count": 2,
   "metadata": {},
   "outputs": [],
   "source": [
    "#!pip install transformers"
   ]
  },
  {
   "attachments": {},
   "cell_type": "markdown",
   "metadata": {},
   "source": [
    "In this tutorial, we will only use the pipeline API, as it'll be more than enough for text generation.<br>Let's get started by the standard GPT-2 model:"
   ]
  },
  {
   "cell_type": "code",
   "execution_count": 3,
   "metadata": {},
   "outputs": [],
   "source": [
    "from transformers import pipeline"
   ]
  },
  {
   "cell_type": "code",
   "execution_count": 4,
   "metadata": {},
   "outputs": [
    {
     "name": "stderr",
     "output_type": "stream",
     "text": [
      "Downloading: 100%|██████████| 665/665 [00:00<00:00, 166kB/s]\n",
      "Downloading: 100%|██████████| 523M/523M [02:29<00:00, 3.66MB/s] \n",
      "Downloading: 100%|██████████| 0.99M/0.99M [00:01<00:00, 583kB/s] \n",
      "Downloading: 100%|██████████| 446k/446k [00:02<00:00, 192kB/s]  \n",
      "Downloading: 100%|██████████| 1.29M/1.29M [00:03<00:00, 399kB/s] \n"
     ]
    }
   ],
   "source": [
    "# download & load GPT-2 model\n",
    "gpt2_generator = pipeline('text-generation', model='gpt2')"
   ]
  },
  {
   "attachments": {},
   "cell_type": "markdown",
   "metadata": {},
   "source": [
    "Let's use GPT-2 model to generate sentence:"
   ]
  },
  {
   "cell_type": "code",
   "execution_count": 5,
   "metadata": {},
   "outputs": [
    {
     "name": "stderr",
     "output_type": "stream",
     "text": [
      "Setting `pad_token_id` to `eos_token_id`:50256 for open-end generation.\n"
     ]
    },
    {
     "name": "stdout",
     "output_type": "stream",
     "text": [
      "The price hiking in Bangladesh has been described as \"unjust\" by the World Bank's World Development Report.\n",
      "\n",
      "On Sunday, the World Bank said it was suspending its aid program for Bangladesh, which has already been hit by a series of economic and social unrest.\n",
      "\n",
      "The country's economy, which has been suffering from a series of economic and social unrest, has been affected by a series of economic and social unrest. Photo: AP\n",
      "\n",
      "\"The country is facing severe economic and social problems, including the worsening of the chronic shortage of food, water and sanitation,\" the World Bank said in a statement.\n",
      "\n",
      "Mr Dh\n",
      "50\n"
     ]
    }
   ],
   "source": [
    "sentences = gpt2_generator(\"The price hiking in Bangladesh\", do_sample=True, temperature=0.6, max_length=128)\n",
    "for sentence in sentences:\n",
    "  print(sentence[\"generated_text\"])\n",
    "  #print(50)"
   ]
  }
 ],
 "metadata": {
  "kernelspec": {
   "display_name": "Python 3",
   "language": "python",
   "name": "python3"
  },
  "language_info": {
   "codemirror_mode": {
    "name": "ipython",
    "version": 3
   },
   "file_extension": ".py",
   "mimetype": "text/x-python",
   "name": "python",
   "nbconvert_exporter": "python",
   "pygments_lexer": "ipython3",
   "version": "3.9.5"
  },
  "orig_nbformat": 4,
  "vscode": {
   "interpreter": {
    "hash": "24d7359adec4ffe2916680474ceb48a86338759ffb8252cd67d6683f84078a4b"
   }
  }
 },
 "nbformat": 4,
 "nbformat_minor": 2
}
