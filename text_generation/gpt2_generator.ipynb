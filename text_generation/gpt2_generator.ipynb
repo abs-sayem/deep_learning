{
 "cells": [
  {
   "attachments": {},
   "cell_type": "markdown",
   "metadata": {},
   "source": [
    "GPT-2 model was trained on massive unsupervised text, that generates quite impressive text.<br>Let's get started, installing the transformers library:"
   ]
  },
  {
   "cell_type": "code",
   "execution_count": 2,
   "metadata": {},
   "outputs": [],
   "source": [
    "#!pip install transformers"
   ]
  },
  {
   "attachments": {},
   "cell_type": "markdown",
   "metadata": {},
   "source": [
    "In this tutorial, we will only use the pipeline API, as it'll be more than enough for text generation.<br>Let's get started by the standard GPT-2 model:"
   ]
  },
  {
   "cell_type": "code",
   "execution_count": 3,
   "metadata": {},
   "outputs": [],
   "source": [
    "from transformers import pipeline"
   ]
  },
  {
   "cell_type": "code",
   "execution_count": 4,
   "metadata": {},
   "outputs": [
    {
     "name": "stderr",
     "output_type": "stream",
     "text": [
      "Downloading: 100%|██████████| 665/665 [00:00<00:00, 166kB/s]\n",
      "Downloading: 100%|██████████| 523M/523M [02:29<00:00, 3.66MB/s] \n",
      "Downloading: 100%|██████████| 0.99M/0.99M [00:01<00:00, 583kB/s] \n",
      "Downloading: 100%|██████████| 446k/446k [00:02<00:00, 192kB/s]  \n",
      "Downloading: 100%|██████████| 1.29M/1.29M [00:03<00:00, 399kB/s] \n"
     ]
    }
   ],
   "source": [
    "# download & load GPT-2 model\n",
    "gpt2_generator = pipeline('text-generation', model='gpt2')"
   ]
  },
  {
   "attachments": {},
   "cell_type": "markdown",
   "metadata": {},
   "source": [
    "Let's use GPT-2 model to generate sentence:"
   ]
  },
  {
   "cell_type": "code",
   "execution_count": 16,
   "metadata": {},
   "outputs": [
    {
     "name": "stderr",
     "output_type": "stream",
     "text": [
      "Setting `pad_token_id` to `eos_token_id`:50256 for open-end generation.\n"
     ]
    },
    {
     "name": "stdout",
     "output_type": "stream",
     "text": [
      "Water bottle must have a cap or lid that will allow the bottle to be opened. The bottle must be sealed with a sealant that is at least 2.25 mm thick.\n",
      "\n",
      "The lid must be securely closed with a sealant that is at least 2.25 mm thick.\n",
      "\n",
      "The lid must be securely closed with a sealant that is at least 2.25 mm thick.\n",
      "\n",
      "The bottle must be opened with a sealant that is at least 2.25 mm thick\n"
     ]
    }
   ],
   "source": [
    "sentences = gpt2_generator(\"What are the basic needs of a human?\", do_sample=True, max_length=100, temperature=0.5)\n",
    "generated_text = []\n",
    "for sentence in sentences:\n",
    "  generated_text.append(sentence)\n",
    "  print(generated_text[0][\"generated_text\"])\n",
    "  #print(50)"
   ]
  }
 ],
 "metadata": {
  "kernelspec": {
   "display_name": "Python 3",
   "language": "python",
   "name": "python3"
  },
  "language_info": {
   "codemirror_mode": {
    "name": "ipython",
    "version": 3
   },
   "file_extension": ".py",
   "mimetype": "text/x-python",
   "name": "python",
   "nbconvert_exporter": "python",
   "pygments_lexer": "ipython3",
   "version": "3.9.5"
  },
  "orig_nbformat": 4,
  "vscode": {
   "interpreter": {
    "hash": "24d7359adec4ffe2916680474ceb48a86338759ffb8252cd67d6683f84078a4b"
   }
  }
 },
 "nbformat": 4,
 "nbformat_minor": 2
}
