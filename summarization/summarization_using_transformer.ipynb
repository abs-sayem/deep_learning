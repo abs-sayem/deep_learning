{
 "cells": [
  {
   "attachments": {},
   "cell_type": "markdown",
   "metadata": {},
   "source": [
    "#### **Steps we will follow:**\n",
    "###### **1. Install Huggingface Transformer<br>2. Build a summarization Pipeline<br>3. Run an Encoding-Decoding Model for Summarization**"
   ]
  },
  {
   "attachments": {},
   "cell_type": "markdown",
   "metadata": {},
   "source": [
    "#### **Installing Transformers and Import Dependencies**"
   ]
  },
  {
   "cell_type": "code",
   "execution_count": 2,
   "metadata": {},
   "outputs": [],
   "source": [
    "#!pip install transformers"
   ]
  },
  {
   "cell_type": "code",
   "execution_count": 4,
   "metadata": {},
   "outputs": [],
   "source": [
    "from transformers import pipeline"
   ]
  },
  {
   "attachments": {},
   "cell_type": "markdown",
   "metadata": {},
   "source": [
    "#### **Build a Summarization Pipeline** "
   ]
  },
  {
   "cell_type": "code",
   "execution_count": 5,
   "metadata": {},
   "outputs": [
    {
     "name": "stderr",
     "output_type": "stream",
     "text": [
      "No model was supplied, defaulted to sshleifer/distilbart-cnn-12-6 (https://huggingface.co/sshleifer/distilbart-cnn-12-6)\n",
      "Downloading: 100%|██████████| 1.76k/1.76k [00:00<00:00, 181kB/s]\n",
      "Downloading: 100%|██████████| 1.14G/1.14G [12:51<00:00, 1.58MB/s]\n",
      "Downloading: 100%|██████████| 26.0/26.0 [00:00<00:00, 3.26kB/s]\n",
      "Downloading: 100%|██████████| 878k/878k [00:02<00:00, 406kB/s]  \n",
      "Downloading: 100%|██████████| 446k/446k [00:01<00:00, 311kB/s]  \n"
     ]
    }
   ],
   "source": [
    "summarizer = pipeline(\"summarization\")"
   ]
  },
  {
   "attachments": {},
   "cell_type": "markdown",
   "metadata": {},
   "source": [
    "#### **Summarization**"
   ]
  },
  {
   "cell_type": "code",
   "execution_count": 14,
   "metadata": {},
   "outputs": [],
   "source": [
    "text = \"\"\"Composition on Student life :Student life is the most amazing phase of any person’s life. No worries of having to come home and cook or earn money. This period is ought to be enjoyed the most you can. Because this period will never be able to return back so just make the most out of it.\n",
    "\n",
    "Student life starts as soon as we join our nursery class. This period keeps on going till your school ends. After that we go on to pursue higher studies where we still remain students. But our issues increase as we have grown up into full adults now. But tell me, do we really ever stop learning? No, be it adults or kinds, learning never stops. So basically student life never ends. But what demarcates student life then? When a person decides to stop pursuing studies, be it 12th, graduation, post-graduation; according to the society, his student life is officially over. I find this definition of stud\n",
    "\n",
    "ent life by the society astonishing. They tend to decide everything for everyone. This societal pressure to confront to the level of society’s expectation destroys the person and their ambitions. Students should never give in to societal pressure. Search your brain for answers and follow your dreams if you don’t want society to dictate your terms and conditions.\n",
    "\n",
    "Student life is full of fun and frolic. Learning new things, exploring new avenues of opportunities, understanding your passions and talents; this is what student life is all about. Bit by bit, students learn to be dependent on themselves for their tasks. They learn to take their own decisions. This starts from picking up their clothes and the student then goes on to make big decisions about his career choices which affect his personality in a very impressionable manner.\n",
    "\n",
    "Friends are one more aspect of student life without which our life seems incomplete. They provide us mental and emotional support throughout our journey. They help us consistently in our endeavors which we sought to achieve in the coming areas. They help us with studies as well and without them, I could have never imagined my life. I have always been in midst of loads of friends and it becomes really tedious to wheel your life without them.\n",
    "\n",
    "Our teachers, mentors and parents guide us at every step and help us in shaping our lives. A child is impressionable just like wet mud is. The mud craves for the attention of potters’ hands similarly children crave for that motherly love they get at home and look up to teachers as their mother figures. Mentors teach students not only the syllabus but also moral values. Without moral values, we are nothing and our existence is void if we are not moral.\n",
    "\n",
    "Student life is not only about study. Because all study and no play makes the student a dumb person. Students need to relax and chill out at times. Students should loosen up a bit and move outside to play or to hangout. Playing relieves the tension from our muscles which has developed due to the tension of studying and working. Hanging out with friends helps in keeping up personal satisfaction and provides change from the monotony of routine.\n",
    "\n",
    "Student life grooms us into the intellectuals we have become today. It moulds our life and makes our life worth living. From the roots to the success we make in our life, our parents, teachers and siblings play a very major role in helping us out to become who we want to. Without the constant support of our peers, I wouldn’t have ever been able toattain any success. They help us in discovering our weaknesses, strength and opportunities. They are the motivating force behind our development.\n",
    "\n",
    "Though the life of a student is free of all anxieties yet a student has a hard life. He has to work intensively and incessantly to bring his grades up. And keeping up a social life along with your grades is a tough task, might I say. But with time and practice, students learn to juggle everything along with handling the pressure that comes with multi tasking. Students are expected to keep up good grades and if they fail to do so, they are tagged as failures which are pathetic.\n",
    "\n",
    "You never know the circumstances they are facing. Interest areas also matter a lot for students. Some are passionate towards studies, some love sports, some pursue art and craft as their forte and some just want to become musicians or dancers. For the matter of fact, you can be anything you want to be. But just don’t give in to society’s expectations of becoming a doctor or engineer if you don’t want to be one. Follow your passion. Follow that spark which ignites the fire in your heart.\n",
    "\n",
    "Student life will exhaust the hell out of you but it will also convert coal into a diamond. Study hard, work hard but also party a little bit to clear your head. Workaholics may achieve success in life but they never receive the happiness they yearn for. Because money and recognition is not everything.\"\"\""
   ]
  },
  {
   "cell_type": "code",
   "execution_count": 17,
   "metadata": {},
   "outputs": [
    {
     "data": {
      "text/plain": [
       "[{'summary_text': ' Students are expected to keep up good grades and if they fail to do so, they are tagged as failures which are pathetic . Students should never give in to societal pressure to confront to the level of society’s expectation . Study hard but also party a little bit to clear your head .'}]"
      ]
     },
     "execution_count": 17,
     "metadata": {},
     "output_type": "execute_result"
    }
   ],
   "source": [
    "summary = summarizer(text, max_length=150, min_length=50, do_sample=False)\n",
    "# do_sample=False: Here it uses a greedy decoder. Greedy decoder returns the next word of highest probability\n",
    "#summary"
   ]
  },
  {
   "cell_type": "code",
   "execution_count": 20,
   "metadata": {},
   "outputs": [
    {
     "ename": "KeyError",
     "evalue": "'summary_text '",
     "output_type": "error",
     "traceback": [
      "\u001b[1;31m---------------------------------------------------------------------------\u001b[0m",
      "\u001b[1;31mKeyError\u001b[0m                                  Traceback (most recent call last)",
      "\u001b[1;32m~\\AppData\\Local\\Temp/ipykernel_9032/187437600.py\u001b[0m in \u001b[0;36m<module>\u001b[1;34m\u001b[0m\n\u001b[1;32m----> 1\u001b[1;33m \u001b[0msummary\u001b[0m\u001b[1;33m[\u001b[0m\u001b[1;36m0\u001b[0m\u001b[1;33m]\u001b[0m\u001b[1;33m[\u001b[0m\u001b[1;34m'summary_text '\u001b[0m\u001b[1;33m]\u001b[0m\u001b[1;33m\u001b[0m\u001b[1;33m\u001b[0m\u001b[0m\n\u001b[0m",
      "\u001b[1;31mKeyError\u001b[0m: 'summary_text '"
     ]
    }
   ],
   "source": [
    "summary[0]['summary_text']  # It will prirt summary excluding the text \"summary_text\""
   ]
  }
 ],
 "metadata": {
  "kernelspec": {
   "display_name": "Python 3",
   "language": "python",
   "name": "python3"
  },
  "language_info": {
   "codemirror_mode": {
    "name": "ipython",
    "version": 3
   },
   "file_extension": ".py",
   "mimetype": "text/x-python",
   "name": "python",
   "nbconvert_exporter": "python",
   "pygments_lexer": "ipython3",
   "version": "3.9.5"
  },
  "orig_nbformat": 4,
  "vscode": {
   "interpreter": {
    "hash": "24d7359adec4ffe2916680474ceb48a86338759ffb8252cd67d6683f84078a4b"
   }
  }
 },
 "nbformat": 4,
 "nbformat_minor": 2
}
