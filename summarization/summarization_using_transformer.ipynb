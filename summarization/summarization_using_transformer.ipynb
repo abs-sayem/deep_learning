{
 "cells": [
  {
   "attachments": {},
   "cell_type": "markdown",
   "metadata": {},
   "source": [
    "#### **Steps we will follow:**\n",
    "###### **1. Install Huggingface Transformer<br>2. Build a summarization Pipeline<br>3. Run an Encoding-Decoding Model for Summarization**"
   ]
  },
  {
   "attachments": {},
   "cell_type": "markdown",
   "metadata": {},
   "source": [
    "#### **Installing Transformers and Import Dependencies**"
   ]
  },
  {
   "cell_type": "code",
   "execution_count": 2,
   "metadata": {},
   "outputs": [],
   "source": [
    "#!pip install transformers"
   ]
  },
  {
   "cell_type": "code",
   "execution_count": 4,
   "metadata": {},
   "outputs": [],
   "source": [
    "from transformers import pipeline"
   ]
  },
  {
   "attachments": {},
   "cell_type": "markdown",
   "metadata": {},
   "source": [
    "#### **Build a Summarization Pipeline** "
   ]
  },
  {
   "cell_type": "code",
   "execution_count": 5,
   "metadata": {},
   "outputs": [
    {
     "name": "stderr",
     "output_type": "stream",
     "text": [
      "No model was supplied, defaulted to sshleifer/distilbart-cnn-12-6 (https://huggingface.co/sshleifer/distilbart-cnn-12-6)\n",
      "Downloading: 100%|██████████| 1.76k/1.76k [00:00<00:00, 181kB/s]\n",
      "Downloading: 100%|██████████| 1.14G/1.14G [12:51<00:00, 1.58MB/s]\n",
      "Downloading: 100%|██████████| 26.0/26.0 [00:00<00:00, 3.26kB/s]\n",
      "Downloading: 100%|██████████| 878k/878k [00:02<00:00, 406kB/s]  \n",
      "Downloading: 100%|██████████| 446k/446k [00:01<00:00, 311kB/s]  \n"
     ]
    }
   ],
   "source": [
    "summarizer = pipeline(\"summarization\")"
   ]
  },
  {
   "attachments": {},
   "cell_type": "markdown",
   "metadata": {},
   "source": [
    "#### **Summarization**"
   ]
  },
  {
   "cell_type": "code",
   "execution_count": 9,
   "metadata": {},
   "outputs": [],
   "source": [
    "text = \"\"\"The universe is an incredibly vast and complex place, and scientists have been studying it for centuries in an effort to understand its origins, structure, and ultimate fate. The prevailing scientific theory of the origin of the universe is the Big Bang theory, which states that the universe began as a singularity, an extremely hot and dense state, around 13.8 billion years ago. This singularity rapidly expanded and cooled, creating the conditions for the formation of subatomic particles, atoms, and eventually stars and galaxies.\n",
    "\n",
    "As the universe expanded and cooled, a variety of important events took place. In the first few minutes after the Big Bang, the universe was filled with a hot, dense plasma of protons, neutrons, and electrons. As the universe expanded and cooled, these particles combined to form atoms, primarily hydrogen and helium. The universe was still extremely hot and dense, and light could not travel far through the plasma.\n",
    "\n",
    "About 380,000 years after the Big Bang, the universe had cooled enough for atoms to form, which allowed light to travel freely. This marked the beginning of the Era of Recombination, and the universe became transparent to light. This was also the time when the first cosmic microwave background radiation was emitted.\n",
    "\n",
    "About 400 million years after the Big Bang, the universe had cooled enough for gravity to pull matter together and form the first stars and galaxies. This marked the beginning of the Era of Structure Formation, and the universe was filled with dense clusters of matter, known as protogalaxies. Over the next several billion years, stars and galaxies continued to form, evolve, and interact. The universe is still expanding, and the density of matter in the universe is decreasing as space continues to expand.\n",
    "\n",
    "In addition to its origins and structure, the universe is also known for its vast size and scale. The observable universe is estimated to contain around 100 billion galaxies, each containing billions of stars. The universe is also home to a wide variety of other celestial objects, including planets, asteroids, comets, and nebulae.\n",
    "\n",
    "Despite all that we know about the universe, there is still much that remains a mystery. The nature of dark matter and dark energy, which make up around 95% of the universe, is still not well understood. The possibility of other universes, or a multiverse, is also a topic of ongoing research.\n",
    "\n",
    "In conclusion, the universe is an endlessly fascinating subject, and scientists continue to study it in an effort to understand its origins, structure, and ultimate fate. The history of the universe is not just a story of the past, but also of the present and the future, and scientists are still investigating many questions about the universe. It's a subject that will continue to capture the imagination of scientists, philosophers and laypeople alike for many years to come.\"\"\""
   ]
  },
  {
   "cell_type": "code",
   "execution_count": 10,
   "metadata": {},
   "outputs": [
    {
     "data": {
      "text/plain": [
       "[{'summary_text': ' The universe is an incredibly vast and complex place, and scientists have been studying it for centuries in an effort to understand its origins, structure, and ultimate fate . The prevailing scientific theory of the origin of the universe is the Big Bang theory, which states that the universe began as a singularity around 13.8 billion years ago .'}]"
      ]
     },
     "execution_count": 10,
     "metadata": {},
     "output_type": "execute_result"
    }
   ],
   "source": [
    "summarizer(text, max_length=150, min_length=50, do_sample=False)\n",
    "# do_sample=False: Here it uses a greedy decoder. Greedy decoder returns the next word of highest probability"
   ]
  }
 ],
 "metadata": {
  "kernelspec": {
   "display_name": "Python 3",
   "language": "python",
   "name": "python3"
  },
  "language_info": {
   "codemirror_mode": {
    "name": "ipython",
    "version": 3
   },
   "file_extension": ".py",
   "mimetype": "text/x-python",
   "name": "python",
   "nbconvert_exporter": "python",
   "pygments_lexer": "ipython3",
   "version": "3.9.5"
  },
  "orig_nbformat": 4,
  "vscode": {
   "interpreter": {
    "hash": "24d7359adec4ffe2916680474ceb48a86338759ffb8252cd67d6683f84078a4b"
   }
  }
 },
 "nbformat": 4,
 "nbformat_minor": 2
}
