{
 "cells": [
  {
   "cell_type": "markdown",
   "metadata": {},
   "source": [
    "### **CNN**\n",
    "* A neural network in which at least one layer is a convolutional layer.\n",
    "* Convolutional Layer: A layer of a deep neural network in which a convolutional filter passes along an input matrix.\n",
    "* Convolutional Filter: A convolutional filter is a matrix having the same rank as the input matrix, but a smaller shape. For example, given a 28x28 input matrix, the filter could be any 2D matrix smaller than 28x28. Convolutional filters can be various sizes, like- 2x2 or 3x3 or 5x5 and so on.\n",
    "* A typical convolutional neural network consists of some combination of the following layers:\n",
    "    * `Convolutional Layers`\n",
    "    * `Pooling Layers`: Pooling layer reduces the size of a matrix created by a convolutional layer to a smaller matrix. It uses- max pooling or average pooling technique.\n",
    "    * `Dense Layers`: AKA Fully Connected Layer where every nodes of a layer is connected with every nodes of another layer."
   ]
  },
  {
   "cell_type": "markdown",
   "metadata": {},
   "source": [
    "##### **CNN using Keras**\n",
    "Here, we will design a Sequential Convolutional Neural Network using Keras. Here, we will consider color (RGB) image processing to build a CNN. The documentation will be available [here](https://www.tensorflow.org/tutorials/images/cnn)."
   ]
  },
  {
   "cell_type": "code",
   "execution_count": 1,
   "metadata": {},
   "outputs": [],
   "source": [
    "# Import Dependencies\n",
    "'''\n",
    "> Keras has different types of models and layers and we can call them to build a network without explicitly code the\n",
    " functionality of the layers and models.\n",
    "'''\n",
    "import tensorflow as tf\n",
    "keras = tf.keras\n",
    "from keras import layers, models"
   ]
  },
  {
   "cell_type": "markdown",
   "metadata": {},
   "source": [
    "Suppose we have a colored dataset having images of 48x48 (heightxwidth) dimension. Color images have 3 color channels (rgb). We will configure a CNN that can process inputs of shape 48x48x3 (image_height x iamge_width x color_channels). We will pass the shape as input_shape in the first layer."
   ]
  },
  {
   "cell_type": "code",
   "execution_count": 2,
   "metadata": {},
   "outputs": [],
   "source": [
    "# Create the Convolutional base\n",
    "\n",
    "# Define the model type:\n",
    "'''\n",
    "> We have Sequential Model and Functional API to design a CNN model. Here, we will use Sequential Model.\n",
    "> Sequential Model: follows a top-down approch while compiling. It goes sequentially from top to bottom. Hence, it is called\n",
    " Sequential Model.\n",
    "'''\n",
    "model = models.Sequential()\n",
    "# Add layers in it\n",
    "'''\n",
    "> We can use different types of layers to define the architecture. Since it is our first layer, we will use a Conv2D layer\n",
    " with the input_shape.\n",
    "> Conv2D layer takes 3 things: nodes, filter_size, activation_fn (and input_shape for first layer)\n",
    "> Then we will use a MaxPooling2D layer to reduce the matrices size.\n",
    "'''\n",
    "# First conv layer\n",
    "model.add(layers.Conv2D(32, (3,3), activation='relu', input_shape=(48,48,3)))\n",
    "model.add(layers.MaxPool2D((2,2)))\n",
    "# Second conv layer\n",
    "model.add(layers.Conv2D(64, (3,3), activation='relu'))\n",
    "model.add(layers.MaxPool2D((2,2)))\n",
    "# Third conv layer\n",
    "model.add(layers.Conv2D(64, (3,3), activation='relu'))\n",
    "model.add(layers.MaxPool2D((2,2)))\n",
    "'''\n",
    "> We can add this (Conv2D and MaxPooling2D) combination as many as we wish. As more layers are added, the more deep the model\n",
    " will be and the more will be the computational time. \n",
    "'''\n",
    "# Add Dense layer\n",
    "'''\n",
    "> Before going to the output layer to perform classification, we have to add Dense layer. Dense Layer takes vectors (1D)\n",
    " as input, so we have to convert the metrices to vectors.\n",
    "> To convert the metrices to vector , we will use Flatten layer \n",
    "'''\n",
    "# Add Flatten layer\n",
    "model.add(layers.Flatten())\n",
    "# Add Dense layer\n",
    "'''\n",
    "> Flatten layer has 2 hyperparameters- nodes, activation_function\n",
    "'''\n",
    "model.add(layers.Dense(64, activation='relu'))\n",
    "model.add(layers.Dense(32, activation='relu'))\n",
    "# Add Output layer\n",
    "'''\n",
    "> Output layer also a Dense layer having only one parameter- classes.\n",
    "'''\n",
    "model.add(layers.Dense(10))"
   ]
  },
  {
   "cell_type": "code",
   "execution_count": 5,
   "metadata": {},
   "outputs": [],
   "source": [
    "# All Together\n",
    "\n",
    "# Import Libraries\n",
    "import tensorflow as tf\n",
    "keras = tf.keras\n",
    "from keras import layers, models\n",
    "\n",
    "# Convolutional Base\n",
    "model = models.Sequential()\n",
    "model.add(layers.Conv2D(64, (3,3), activation='relu', input_shape=(48,48,3)))\n",
    "model.add(layers.MaxPooling2D((2,2)))\n",
    "model.add(layers.Conv2D(128, (3,3), activation='relu'))\n",
    "model.add(layers.MaxPooling2D((2,2)))\n",
    "model.add(layers.Conv2D(128, (3,3), activation='relu'))\n",
    "model.add(layers.MaxPooling2D((2,2)))\n",
    "model.add(layers.Conv2D(64, (3,3), activation='relu'))\n",
    "model.add(layers.MaxPooling2D((2,2)))\n",
    "model.add(layers.Flatten())\n",
    "model.add(layers.Dense(64, activation='relu'))\n",
    "model.add(layers.Dense(32, activation='relu'))\n",
    "model.add(layers.Dense(10))"
   ]
  }
 ],
 "metadata": {
  "kernelspec": {
   "display_name": "Python 3",
   "language": "python",
   "name": "python3"
  },
  "language_info": {
   "codemirror_mode": {
    "name": "ipython",
    "version": 3
   },
   "file_extension": ".py",
   "mimetype": "text/x-python",
   "name": "python",
   "nbconvert_exporter": "python",
   "pygments_lexer": "ipython3",
   "version": "3.11.4"
  },
  "orig_nbformat": 4
 },
 "nbformat": 4,
 "nbformat_minor": 2
}
