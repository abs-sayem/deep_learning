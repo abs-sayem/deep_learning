{
 "cells": [
  {
   "cell_type": "markdown",
   "metadata": {},
   "source": [
    "### **A Simple NN**\n",
    "Here, we will create a simple neural network with one hidden layer with a single output unit. To define a nn we will follow the following basic steps:\n",
    "* import torch\n",
    "* define hyper parameters\n",
    "* input / output data\n",
    "* define a sequential model\n",
    "* select loss function and optimizer\n",
    "* implement optimizer model\n",
    "> The documentation is [here](https://www.tutorialspoint.com/pytorch/pytorch_implementing_first_neural_network.htm)"
   ]
  },
  {
   "cell_type": "markdown",
   "metadata": {},
   "source": [
    "Step-1: **Import Torch**"
   ]
  },
  {
   "cell_type": "code",
   "execution_count": 1,
   "metadata": {},
   "outputs": [],
   "source": [
    "import torch\n",
    "import torch.nn as nn"
   ]
  },
  {
   "cell_type": "markdown",
   "metadata": {},
   "source": [
    "Step-2: **Hyper Parameters**\n",
    "\n",
    "Define input_size, hidden_layer_size, output_size, batch_size"
   ]
  },
  {
   "cell_type": "code",
   "execution_count": 17,
   "metadata": {},
   "outputs": [],
   "source": [
    "input_size = 10\n",
    "hl_size = 5\n",
    "output_size = 1\n",
    "batch_size = 10\n",
    "learning_rate = 0.001\n",
    "epochs = 100"
   ]
  },
  {
   "cell_type": "markdown",
   "metadata": {},
   "source": [
    "Step-3: **Input/Output Data**"
   ]
  },
  {
   "cell_type": "code",
   "execution_count": 20,
   "metadata": {},
   "outputs": [
    {
     "name": "stdout",
     "output_type": "stream",
     "text": [
      "torch.Size([10, 10]) torch.Size([10, 1])\n"
     ]
    }
   ],
   "source": [
    "# Create dumy input and output tensors (data)\n",
    "x = torch.rand(batch_size, input_size)\n",
    "y = torch.tensor([[1.0], [0.0], [0.0], [1.0], [1.0], [1.0], [0.0], [0.0], [1.0], [1.0]])\n",
    "print(x.shape, y.shape)"
   ]
  },
  {
   "cell_type": "markdown",
   "metadata": {},
   "source": [
    "Step-4: **Define Sequential Model**"
   ]
  },
  {
   "cell_type": "code",
   "execution_count": 23,
   "metadata": {},
   "outputs": [],
   "source": [
    "# Create a model\n",
    "model = nn.Sequential(\n",
    "    nn.Linear(input_size, hl_size),\n",
    "    nn.ReLU(),\n",
    "    nn.Linear(hl_size, output_size),\n",
    "    nn.Sigmoid()\n",
    ")"
   ]
  },
  {
   "cell_type": "markdown",
   "metadata": {},
   "source": [
    "Step-5: **Loss Function and Optimizer**"
   ]
  },
  {
   "cell_type": "code",
   "execution_count": 24,
   "metadata": {},
   "outputs": [],
   "source": [
    "# Select the loss function\n",
    "loss_fn = torch.nn.MSELoss()\n",
    "# Select the optimizer\n",
    "optimizer = torch.optim.SGD(model.parameters(), lr=learning_rate)"
   ]
  },
  {
   "cell_type": "markdown",
   "metadata": {},
   "source": [
    "Step-6: **Optimizer Model**\n",
    "\n",
    "Now, lets implement the optimizer model with the iterating loop:"
   ]
  },
  {
   "cell_type": "code",
   "execution_count": 26,
   "metadata": {},
   "outputs": [
    {
     "name": "stdout",
     "output_type": "stream",
     "text": [
      "last epoch: 99 => loss: 0.25918734073638916\n"
     ]
    }
   ],
   "source": [
    "# Define the Gradient Descent Model\n",
    "for epoch in range(epochs):\n",
    "    # Forward Pass: Compute y_pred by from passed x (input) to the model\n",
    "    y_pred = model(x)\n",
    "\n",
    "    # Compute and Print Loss\n",
    "    loss = loss_fn(y_pred, y)\n",
    "    #print(f\"epoch: {epoch} => loss: {loss}\")\n",
    "\n",
    "    # Backpropagation\n",
    "    # Initialize the Optimizer\n",
    "    optimizer.zero_grad()\n",
    "    # Perform a Backward Pass\n",
    "    loss.backward()\n",
    "    # Update the weights\n",
    "    optimizer.step()\n",
    "print(f\"last epoch: {epoch} => loss: {loss}\")"
   ]
  },
  {
   "cell_type": "markdown",
   "metadata": {},
   "source": [
    "**At a Glance**"
   ]
  },
  {
   "cell_type": "code",
   "execution_count": 12,
   "metadata": {},
   "outputs": [
    {
     "name": "stdout",
     "output_type": "stream",
     "text": [
      "epoch:999 => loss: 0.07501164078712463 => accuracy: 92%\n"
     ]
    }
   ],
   "source": [
    "# Import dependencies\n",
    "import torch\n",
    "import torch.nn as nn\n",
    "\n",
    "# Hyper-parameters\n",
    "input_size = 100\n",
    "hl_size = 10\n",
    "output_size = 1\n",
    "batch_size = 100\n",
    "learning_rate = 0.01\n",
    "epochs = 1000\n",
    "\n",
    "# Create dumy input and output tensors (data)\n",
    "x = torch.rand(batch_size, input_size)\n",
    "y = torch.rand(input_size, output_size)\n",
    "\n",
    "# Create a model\n",
    "model = nn.Sequential(\n",
    "    nn.Linear(input_size, hl_size),\n",
    "    nn.ReLU(),\n",
    "    nn.Linear(hl_size, output_size),\n",
    "    nn.Sigmoid()\n",
    ")\n",
    "\n",
    "# Loss function and Optimizer\n",
    "loss_fn = torch.nn.MSELoss()\n",
    "optimizer = torch.optim.SGD(model.parameters(), lr=learning_rate)\n",
    "\n",
    "# Trainer\n",
    "for epoch in range(epochs):\n",
    "    # Forward pass\n",
    "    y_pred = model(x)\n",
    "\n",
    "    # Loss calculation\n",
    "    loss = loss_fn(y_pred, y)\n",
    "\n",
    "    # Backpropagation\n",
    "    optimizer.zero_grad()   # initialize optimizer\n",
    "    loss.backward()         # backpropagate\n",
    "    optimizer.step()        # update the weights\n",
    "\n",
    "# Check out the output of last epoch\n",
    "print(f\"epoch:{epoch} => loss: {loss} => accuracy: {round(float((1-loss)*100))}%\")"
   ]
  }
 ],
 "metadata": {
  "kernelspec": {
   "display_name": "Python 3",
   "language": "python",
   "name": "python3"
  },
  "language_info": {
   "codemirror_mode": {
    "name": "ipython",
    "version": 3
   },
   "file_extension": ".py",
   "mimetype": "text/x-python",
   "name": "python",
   "nbconvert_exporter": "python",
   "pygments_lexer": "ipython3",
   "version": "3.11.4"
  },
  "orig_nbformat": 4
 },
 "nbformat": 4,
 "nbformat_minor": 2
}
